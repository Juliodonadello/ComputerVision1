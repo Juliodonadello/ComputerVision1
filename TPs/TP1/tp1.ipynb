{
 "cells": [
  {
   "cell_type": "code",
   "execution_count": 1,
   "metadata": {},
   "outputs": [],
   "source": [
    "%matplotlib qt\n",
    "\n",
    "import numpy as np\n",
    "import cv2 as cv\n",
    "import matplotlib.pyplot as plt"
   ]
  },
  {
   "cell_type": "markdown",
   "metadata": {},
   "source": [
    "# Parte 1"
   ]
  },
  {
   "cell_type": "markdown",
   "metadata": {},
   "source": [
    "## 1.1 Coordenadas cromáticas"
   ]
  },
  {
   "cell_type": "code",
   "execution_count": 36,
   "metadata": {},
   "outputs": [],
   "source": [
    "img1 = cv.imread('data/coord_cromaticas/CoordCrom_1.png')\n",
    "img2 = cv.imread('data/coord_cromaticas/CoordCrom_2.png')\n",
    "img3 = cv.imread('data/coord_cromaticas/CoordCrom_3.png')"
   ]
  },
  {
   "cell_type": "code",
   "execution_count": 109,
   "metadata": {},
   "outputs": [],
   "source": [
    "fig, (ax1, ax2, ax3) = plt.subplots(1, 3, figsize=(15, 5))  # 1 fila, 3 columnas\n",
    "ax1.imshow(img1)\n",
    "ax1.set_title('Imagen 1')\n",
    "ax2.imshow(img2)\n",
    "ax2.set_title('Imagen 2')\n",
    "ax3.imshow(img3)\n",
    "ax3.set_title('Imagen 3')\n",
    "plt.show()"
   ]
  },
  {
   "cell_type": "code",
   "execution_count": 35,
   "metadata": {},
   "outputs": [
    {
     "data": {
      "text/plain": [
       "(996, 908, 3)"
      ]
     },
     "execution_count": 35,
     "metadata": {},
     "output_type": "execute_result"
    }
   ],
   "source": [
    "img1.shape"
   ]
  },
  {
   "cell_type": "code",
   "execution_count": 89,
   "metadata": {},
   "outputs": [],
   "source": [
    "def convert_to_cromatic_coords(img: np.ndarray) -> np.ndarray:\n",
    "    '''\n",
    "    Parameters\n",
    "    ----------\n",
    "    img : np.ndarray\n",
    "        Input image in BGR format.\n",
    "\n",
    "    Returns\n",
    "    -------\n",
    "    np.ndarray\n",
    "        Image converted to chromatic coordinates.\n",
    "    '''\n",
    "    img_float = img.astype(np.float32)  # Convertir a float32 para precisión en la división\n",
    "    img_cromatic = np.zeros_like(img_float)\n",
    "\n",
    "    for row in range(img.shape[0]):\n",
    "        for col in range(img.shape[1]):\n",
    "            b, g, r = img_float[row, col]\n",
    "            sum_channels = b + g + r\n",
    "            if sum_channels > 0:\n",
    "                img_cromatic[row, col] = [b / sum_channels, g / sum_channels, r / sum_channels]\n",
    "\n",
    "    # Convertir de nuevo a 0-255 y uint8 para visualización\n",
    "    img_cromatic = (img_cromatic * 255).astype(np.uint8)\n",
    "\n",
    "    return img_cromatic"
   ]
  },
  {
   "cell_type": "markdown",
   "metadata": {},
   "source": [
    "### Resultados"
   ]
  },
  {
   "cell_type": "code",
   "execution_count": 111,
   "metadata": {},
   "outputs": [],
   "source": [
    "img1_cromatic = convert_to_cromatic_coords(img1)\n",
    "img2_cromatic = convert_to_cromatic_coords(img2)\n",
    "img3_cromatic = convert_to_cromatic_coords(img3)\n",
    "\n",
    "\n",
    "fig, ((ax1, ax2, ax3), (ax4, ax5, ax6)) = plt.subplots(2, 3, figsize=(15, 10))\n",
    "\n",
    "ax1.imshow(cv.cvtColor(img1, cv.COLOR_BGR2RGB))\n",
    "ax1.set_title('Imagen 1 - Original')\n",
    "\n",
    "ax2.imshow(cv.cvtColor(img2, cv.COLOR_BGR2RGB))\n",
    "ax2.set_title('Imagen 2 - Original')\n",
    "\n",
    "ax3.imshow(cv.cvtColor(img3, cv.COLOR_BGR2RGB))\n",
    "ax3.set_title('Imagen 3 - Original')\n",
    "\n",
    "ax4.imshow(cv.cvtColor(img1_cromatic, cv.COLOR_BGR2RGB))\n",
    "ax4.set_title('Imagen 1 - Coordenadas Cromáticas')\n",
    "\n",
    "ax5.imshow(cv.cvtColor(img2_cromatic, cv.COLOR_BGR2RGB))\n",
    "ax5.set_title('Imagen 2 - Coordenadas Cromáticas')\n",
    "\n",
    "ax6.imshow(cv.cvtColor(img3_cromatic, cv.COLOR_BGR2RGB))\n",
    "ax6.set_title('Imagen 3 - Coordenadas Cromáticas')\n",
    "\n",
    "plt.tight_layout()\n",
    "plt.show()"
   ]
  },
  {
   "cell_type": "markdown",
   "metadata": {},
   "source": [
    "## 1.2 White patch"
   ]
  },
  {
   "cell_type": "code",
   "execution_count": 37,
   "metadata": {},
   "outputs": [],
   "source": [
    "test_blue = cv.imread('data/white_patch/test_blue.png')\n",
    "test_green = cv.imread('data/white_patch/test_green.png')\n",
    "test_red = cv.imread('data/white_patch/test_red.png')"
   ]
  },
  {
   "cell_type": "code",
   "execution_count": 46,
   "metadata": {},
   "outputs": [],
   "source": [
    "wp_blue = cv.imread('data/white_patch/wp_blue.jpg')\n",
    "wp_green = cv.imread('data/white_patch/wp_green.png')\n",
    "wp_green2 = cv.imread('data/white_patch/wp_green2.jpg')\n",
    "wp_red = cv.imread('data/white_patch/wp_red.png')\n",
    "wp_red2 = cv.imread('data/white_patch/wp_red2.jpg')"
   ]
  },
  {
   "cell_type": "code",
   "execution_count": 111,
   "metadata": {},
   "outputs": [],
   "source": [
    "def white_patch(img: np.ndarray) -> np.ndarray:\n",
    "    '''\n",
    "    Parameters\n",
    "    ----------\n",
    "    img : np.ndarray\n",
    "        Input image in BGR format.\n",
    "\n",
    "    Returns\n",
    "    -------\n",
    "    np.ndarray\n",
    "        Image patched in BGR format.\n",
    "    '''\n",
    "    img_float = img.astype(np.float32)  # Convertir a float32 para precisión en la división\n",
    "    adjust_max = lambda channel: np.percentile(channel, 95) if channel.max() == 255 else channel.max()\n",
    "    #adjust_max = lambda channel: np.percentile(channel, 95) if channel.max() == 255 else channel.max()-50 # testing\n",
    "\n",
    "    # máximo ajustado de cada canal\n",
    "    b_max = adjust_max(img_float[:,:,0])\n",
    "    g_max = adjust_max(img_float[:,:,1])\n",
    "    r_max = adjust_max(img_float[:,:,2])\n",
    "    \n",
    "    # Verificar si alguno de los canales tiene un valor máximo de 0\n",
    "    if b_max == 0 or g_max == 0 or r_max == 0:\n",
    "        raise ValueError(\"Problemas con la cámara: uno de los canales tiene un valor máximo de 0.\")\n",
    "\n",
    "    # Normalizar cada canal por su valor máximo\n",
    "    img_patched = img_float / [b_max, g_max, r_max] * 255.0\n",
    "\n",
    "    # Convertir de nuevo a uint8 para visualización\n",
    "    img_patched = img_patched.astype(np.uint8)\n",
    "\n",
    "    return img_patched"
   ]
  },
  {
   "cell_type": "markdown",
   "metadata": {},
   "source": [
    "### Resultados"
   ]
  },
  {
   "cell_type": "code",
   "execution_count": 112,
   "metadata": {},
   "outputs": [],
   "source": [
    "# Crear figura y subplots\n",
    "fig, axs = plt.subplots(2, 3, figsize=(15, 8))\n",
    "\n",
    "# Mostrar imágenes originales en la primera fila\n",
    "axs[0, 0].imshow(cv.cvtColor(test_blue, cv.COLOR_BGR2RGB))\n",
    "axs[0, 0].set_title('Original Test Blue')\n",
    "axs[0, 1].imshow(cv.cvtColor(test_green, cv.COLOR_BGR2RGB))\n",
    "axs[0, 1].set_title('Original Test Green')\n",
    "axs[0, 2].imshow(cv.cvtColor(test_red, cv.COLOR_BGR2RGB))\n",
    "axs[0, 2].set_title('Original Test Red')\n",
    "\n",
    "# Mostrar imágenes parcheadas en la segunda fila\n",
    "axs[1, 0].imshow(cv.cvtColor(white_patch(test_blue), cv.COLOR_BGR2RGB))\n",
    "axs[1, 0].set_title('Patched Test Blue')\n",
    "axs[1, 1].imshow(cv.cvtColor(white_patch(test_green), cv.COLOR_BGR2RGB))\n",
    "axs[1, 1].set_title('Patched Test Green')\n",
    "axs[1, 2].imshow(cv.cvtColor(white_patch(test_red), cv.COLOR_BGR2RGB))\n",
    "axs[1, 2].set_title('Patched Test Red')\n",
    "\n",
    "# Ajustar espacios y mostrar la figura\n",
    "plt.tight_layout()\n",
    "plt.show()"
   ]
  },
  {
   "cell_type": "code",
   "execution_count": 118,
   "metadata": {},
   "outputs": [],
   "source": [
    "# Crear figura y subplots\n",
    "fig, axs = plt.subplots(2, 5, figsize=(15, 8))\n",
    "# Mostrar imágenes originales en la primera fila\n",
    "axs[0, 0].imshow(cv.cvtColor(wp_blue, cv.COLOR_BGR2RGB))\n",
    "axs[0, 0].set_title('Original WP Blue')\n",
    "axs[0, 1].imshow(cv.cvtColor(wp_green, cv.COLOR_BGR2RGB))\n",
    "axs[0, 1].set_title('Original WP Green')\n",
    "axs[0, 2].imshow(cv.cvtColor(wp_green2, cv.COLOR_BGR2RGB))\n",
    "axs[0, 2].set_title('Original WP Green 2')\n",
    "axs[0, 3].imshow(cv.cvtColor(wp_red, cv.COLOR_BGR2RGB))\n",
    "axs[0, 3].set_title('Original WP Red')\n",
    "axs[0, 4].imshow(cv.cvtColor(wp_red2, cv.COLOR_BGR2RGB))\n",
    "axs[0, 4].set_title('Original WP Red 2')\n",
    "# Mostrar imágenes parcheadas en la segunda fila\n",
    "axs[1, 0].imshow(cv.cvtColor(white_patch(wp_blue), cv.COLOR_BGR2RGB))\n",
    "axs[1, 0].set_title('Patched WP Blue')\n",
    "axs[1, 1].imshow(cv.cvtColor(white_patch(wp_green), cv.COLOR_BGR2RGB))\n",
    "axs[1, 1].set_title('Patched WP Green')\n",
    "axs[1, 2].imshow(cv.cvtColor(white_patch(wp_green2), cv.COLOR_BGR2RGB))\n",
    "axs[1, 2].set_title('Patched WP Green 2')\n",
    "axs[1, 3].imshow(cv.cvtColor(white_patch(wp_red), cv.COLOR_BGR2RGB))\n",
    "axs[1, 3].set_title('Patched WP Red')\n",
    "axs[1, 4].imshow(cv.cvtColor(white_patch(wp_red2), cv.COLOR_BGR2RGB))\n",
    "axs[1, 4].set_title('Patched WP Red 2')\n",
    "# Ajustar espacios y mostrar la figura\n",
    "plt.tight_layout()\n",
    "plt.show()"
   ]
  },
  {
   "cell_type": "markdown",
   "metadata": {},
   "source": [
    "# 1.3 Falla Whitepatch"
   ]
  },
  {
   "cell_type": "markdown",
   "metadata": {},
   "source": [
    "Se observa una \"falla\" cuando se trabaja con la imagen wp_blue. Esto tiene una explicación y una posible mitigación.\n",
    "\n",
    "- Explicación: Viendo la distribución de intensidades en los canales de la imagen wp_blue, vemos en la imagen que genera la celda posterior que el percentil seleccionado para los canales R y G responden a valores muy bajos. Por ende el escalamiento afecta en gran medida a los valores \"bajos\" que poseían de antemano estos canales.\n",
    "\n",
    "- Mitigación: Tomar un percentil superior para evitar una disminución de escala abrupta por la baja densidad de intensidades altas que presentan las distribuciones de algunos canales. Por ejemplo: Usar el percentil 99.\n",
    "Esto mitiga el problema en la imagen wp_blue pero baja el rendimiento general del algoritmo, que se puede observar en la modificación de rendimiento que recibe el resto de las imágenes. "
   ]
  },
  {
   "cell_type": "code",
   "execution_count": 117,
   "metadata": {},
   "outputs": [],
   "source": [
    "# Leer la imagen\n",
    "wp_blue = cv.imread('data/white_patch/wp_blue.jpg')\n",
    "\n",
    "# Convertir de BGR a RGB para mostrar con Matplotlib\n",
    "wp_blue_rgb = cv.cvtColor(wp_blue, cv.COLOR_BGR2RGB)\n",
    "\n",
    "# Calcular histogramas para cada canal de color\n",
    "hist_b = cv.calcHist([wp_blue], [0], None, [256], [0, 256])\n",
    "hist_g = cv.calcHist([wp_blue], [1], None, [256], [0, 256])\n",
    "hist_r = cv.calcHist([wp_blue], [2], None, [256], [0, 256])\n",
    "\n",
    "# Calcular percentil 95 para cada canal\n",
    "percentile_b = np.percentile(wp_blue[:,:,0], 95)\n",
    "percentile_g = np.percentile(wp_blue[:,:,1], 95)\n",
    "percentile_r = np.percentile(wp_blue[:,:,2], 95)\n",
    "\n",
    "# Crear la figura y los subplots\n",
    "fig, axs = plt.subplots(1, 4, figsize=(15, 4))\n",
    "\n",
    "# Mostrar la imagen\n",
    "axs[0].imshow(wp_blue_rgb)\n",
    "axs[0].set_title('Imagen')\n",
    "\n",
    "# Mostrar histograma para el canal Azul (B)\n",
    "axs[1].plot(hist_b, color='b')\n",
    "axs[1].axvline(x=percentile_b, color='r', linestyle='--', label=f'Percentil 95 ({int(percentile_b)})')\n",
    "axs[1].set_title('Histograma Azul')\n",
    "axs[1].set_xlim([0, 256])\n",
    "axs[1].legend()\n",
    "\n",
    "# Mostrar histograma para el canal Verde (G)\n",
    "axs[2].plot(hist_g, color='g')\n",
    "axs[2].axvline(x=percentile_g, color='r', linestyle='--', label=f'Percentil 95 ({int(percentile_g)})')\n",
    "axs[2].set_title('Histograma Verde')\n",
    "axs[2].set_xlim([0, 256])\n",
    "axs[2].legend()\n",
    "\n",
    "# Mostrar histograma para el canal Rojo (R)\n",
    "axs[3].plot(hist_r, color='r')\n",
    "axs[3].axvline(x=percentile_r, color='r', linestyle='--', label=f'Percentil 95 ({int(percentile_r)})')\n",
    "axs[3].set_title('Histograma Rojo')\n",
    "axs[3].set_xlim([0, 256])\n",
    "axs[3].legend()\n",
    "\n",
    "# Ajustar espacios y mostrar la figura\n",
    "plt.tight_layout()\n",
    "plt.show()\n"
   ]
  },
  {
   "cell_type": "markdown",
   "metadata": {},
   "source": [
    "(TO DO) agregar nuevo codigo para display de la imagen wp_blue con los g_max y r_max hardcodeados a 240 aprox."
   ]
  },
  {
   "cell_type": "markdown",
   "metadata": {},
   "source": [
    "---"
   ]
  },
  {
   "cell_type": "markdown",
   "metadata": {},
   "source": [
    "# Parte 2"
   ]
  },
  {
   "cell_type": "markdown",
   "metadata": {},
   "source": [
    "## 2.1 Escala de grises"
   ]
  },
  {
   "cell_type": "code",
   "execution_count": null,
   "metadata": {},
   "outputs": [],
   "source": []
  }
 ],
 "metadata": {
  "kernelspec": {
   "display_name": "cv1",
   "language": "python",
   "name": "python3"
  },
  "language_info": {
   "codemirror_mode": {
    "name": "ipython",
    "version": 3
   },
   "file_extension": ".py",
   "mimetype": "text/x-python",
   "name": "python",
   "nbconvert_exporter": "python",
   "pygments_lexer": "ipython3",
   "version": "3.12.4"
  }
 },
 "nbformat": 4,
 "nbformat_minor": 2
}
