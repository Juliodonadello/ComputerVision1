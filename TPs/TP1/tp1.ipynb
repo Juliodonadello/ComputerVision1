{
 "cells": [
  {
   "cell_type": "code",
   "execution_count": 1,
   "metadata": {},
   "outputs": [],
   "source": [
    "%matplotlib qt\n",
    "\n",
    "import numpy as np\n",
    "import cv2 as cv\n",
    "import matplotlib.pyplot as plt"
   ]
  },
  {
   "cell_type": "markdown",
   "metadata": {},
   "source": [
    "# Parte 1"
   ]
  },
  {
   "cell_type": "markdown",
   "metadata": {},
   "source": [
    "## 1.1 Coordenadas cromáticas"
   ]
  },
  {
   "cell_type": "code",
   "execution_count": 98,
   "metadata": {},
   "outputs": [],
   "source": [
    "img1 = cv.imread('data/coord_cromaticas/CoordCrom_1.png')\n",
    "img2 = cv.imread('data/coord_cromaticas/CoordCrom_2.png')\n",
    "img3 = cv.imread('data/coord_cromaticas/CoordCrom_3.png')"
   ]
  },
  {
   "cell_type": "code",
   "execution_count": 109,
   "metadata": {},
   "outputs": [],
   "source": [
    "fig, (ax1, ax2, ax3) = plt.subplots(1, 3, figsize=(15, 5))  # 1 fila, 3 columnas\n",
    "ax1.imshow(img1)\n",
    "ax1.set_title('Imagen 1')\n",
    "ax2.imshow(img2)\n",
    "ax2.set_title('Imagen 2')\n",
    "ax3.imshow(img3)\n",
    "ax3.set_title('Imagen 3')\n",
    "plt.show()"
   ]
  },
  {
   "cell_type": "code",
   "execution_count": 35,
   "metadata": {},
   "outputs": [
    {
     "data": {
      "text/plain": [
       "(996, 908, 3)"
      ]
     },
     "execution_count": 35,
     "metadata": {},
     "output_type": "execute_result"
    }
   ],
   "source": [
    "img1.shape"
   ]
  },
  {
   "cell_type": "code",
   "execution_count": 107,
   "metadata": {},
   "outputs": [],
   "source": [
    "def convert_to_cromatic_coords(img):\n",
    "    '''\n",
    "    Parameters\n",
    "    ----------\n",
    "    img : np.ndarray\n",
    "        Input image in BGR format.\n",
    "\n",
    "    Returns\n",
    "    -------\n",
    "    np.ndarray\n",
    "        Image converted to chromatic coordinates.\n",
    "    '''\n",
    "    img_float = img.astype(np.float32)  # Convertir a float32 para precisión en la división\n",
    "    img_cromatic = np.zeros_like(img_float)\n",
    "\n",
    "    for row in range(img.shape[0]):\n",
    "        for col in range(img.shape[1]):\n",
    "            b, g, r = img_float[row, col]\n",
    "            sum_channels = b + g + r\n",
    "            if sum_channels > 0:\n",
    "                img_cromatic[row, col] = [b / sum_channels, g / sum_channels, r / sum_channels]\n",
    "\n",
    "    # Convertir de nuevo a 0-255 y uint8 para visualización\n",
    "    img_cromatic = (img_cromatic * 255).astype(np.uint8)\n",
    "\n",
    "    return img_cromatic"
   ]
  },
  {
   "cell_type": "markdown",
   "metadata": {},
   "source": [
    "### Resultados"
   ]
  },
  {
   "cell_type": "code",
   "execution_count": 111,
   "metadata": {},
   "outputs": [],
   "source": [
    "img1_cromatic = convert_to_cromatic_coords(img1)\n",
    "img2_cromatic = convert_to_cromatic_coords(img2)\n",
    "img3_cromatic = convert_to_cromatic_coords(img3)\n",
    "\n",
    "\n",
    "fig, ((ax1, ax2, ax3), (ax4, ax5, ax6)) = plt.subplots(2, 3, figsize=(15, 10))\n",
    "\n",
    "ax1.imshow(cv.cvtColor(img1, cv.COLOR_BGR2RGB))\n",
    "ax1.set_title('Imagen 1 - Original')\n",
    "\n",
    "ax2.imshow(cv.cvtColor(img2, cv.COLOR_BGR2RGB))\n",
    "ax2.set_title('Imagen 2 - Original')\n",
    "\n",
    "ax3.imshow(cv.cvtColor(img3, cv.COLOR_BGR2RGB))\n",
    "ax3.set_title('Imagen 3 - Original')\n",
    "\n",
    "ax4.imshow(cv.cvtColor(img1_cromatic, cv.COLOR_BGR2RGB))\n",
    "ax4.set_title('Imagen 1 - Coordenadas Cromáticas')\n",
    "\n",
    "ax5.imshow(cv.cvtColor(img2_cromatic, cv.COLOR_BGR2RGB))\n",
    "ax5.set_title('Imagen 2 - Coordenadas Cromáticas')\n",
    "\n",
    "ax6.imshow(cv.cvtColor(img3_cromatic, cv.COLOR_BGR2RGB))\n",
    "ax6.set_title('Imagen 3 - Coordenadas Cromáticas')\n",
    "\n",
    "plt.tight_layout()\n",
    "plt.show()"
   ]
  },
  {
   "cell_type": "markdown",
   "metadata": {},
   "source": [
    "## 1.2 White patch"
   ]
  },
  {
   "cell_type": "code",
   "execution_count": 113,
   "metadata": {},
   "outputs": [],
   "source": [
    "pass"
   ]
  },
  {
   "cell_type": "markdown",
   "metadata": {},
   "source": [
    "### Resultados"
   ]
  }
 ],
 "metadata": {
  "kernelspec": {
   "display_name": "cv1",
   "language": "python",
   "name": "python3"
  },
  "language_info": {
   "codemirror_mode": {
    "name": "ipython",
    "version": 3
   },
   "file_extension": ".py",
   "mimetype": "text/x-python",
   "name": "python",
   "nbconvert_exporter": "python",
   "pygments_lexer": "ipython3",
   "version": "3.12.4"
  }
 },
 "nbformat": 4,
 "nbformat_minor": 2
}
