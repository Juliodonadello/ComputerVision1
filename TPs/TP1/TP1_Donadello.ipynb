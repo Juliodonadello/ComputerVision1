{
 "cells": [
  {
   "cell_type": "markdown",
   "metadata": {},
   "source": [
    "# COMPUTER VISION 1 - TRABAJO PRACTICO nº1\n",
    "\n",
    "**Autor: Julio Agustín Donadello**\n",
    "\n",
    "**Fecha de entrega: 18-07-2024**"
   ]
  },
  {
   "cell_type": "code",
   "execution_count": 1,
   "metadata": {},
   "outputs": [],
   "source": [
    "%matplotlib qt\n",
    "\n",
    "import numpy as np\n",
    "import cv2 as cv\n",
    "import matplotlib.pyplot as plt"
   ]
  },
  {
   "cell_type": "markdown",
   "metadata": {},
   "source": [
    "# Parte 1"
   ]
  },
  {
   "cell_type": "markdown",
   "metadata": {},
   "source": [
    "## 1.1 Coordenadas cromáticas"
   ]
  },
  {
   "cell_type": "code",
   "execution_count": 2,
   "metadata": {},
   "outputs": [],
   "source": [
    "img1 = cv.imread('data/coord_cromaticas/CoordCrom_1.png')\n",
    "img2 = cv.imread('data/coord_cromaticas/CoordCrom_2.png')\n",
    "img3 = cv.imread('data/coord_cromaticas/CoordCrom_3.png')"
   ]
  },
  {
   "cell_type": "code",
   "execution_count": 3,
   "metadata": {},
   "outputs": [],
   "source": [
    "fig, (ax1, ax2, ax3) = plt.subplots(1, 3, figsize=(15, 5))  # 1 fila, 3 columnas\n",
    "ax1.imshow(img1)\n",
    "ax1.set_title('Imagen 1')\n",
    "ax2.imshow(img2)\n",
    "ax2.set_title('Imagen 2')\n",
    "ax3.imshow(img3)\n",
    "ax3.set_title('Imagen 3')\n",
    "plt.show()"
   ]
  },
  {
   "cell_type": "code",
   "execution_count": 4,
   "metadata": {},
   "outputs": [
    {
     "data": {
      "text/plain": [
       "(996, 908, 3)"
      ]
     },
     "execution_count": 4,
     "metadata": {},
     "output_type": "execute_result"
    }
   ],
   "source": [
    "img1.shape"
   ]
  },
  {
   "cell_type": "code",
   "execution_count": 5,
   "metadata": {},
   "outputs": [],
   "source": [
    "def convert_to_cromatic_coords(img: np.ndarray) -> np.ndarray:\n",
    "    '''\n",
    "    Parameters\n",
    "    ----------\n",
    "    img : np.ndarray\n",
    "        Input image in BGR format.\n",
    "\n",
    "    Returns\n",
    "    -------\n",
    "    np.ndarray\n",
    "        Image converted to chromatic coordinates.\n",
    "    '''\n",
    "    img_float = img.astype(np.float32)  # Convertir a float32 para precisión en la división\n",
    "    img_cromatic = np.zeros_like(img_float)\n",
    "\n",
    "    for row in range(img.shape[0]):\n",
    "        for col in range(img.shape[1]):\n",
    "            b, g, r = img_float[row, col]\n",
    "            sum_channels = b + g + r\n",
    "            if sum_channels > 0:\n",
    "                img_cromatic[row, col] = [b / sum_channels, g / sum_channels, r / sum_channels]\n",
    "\n",
    "    # Convertir de nuevo a 0-255 y uint8 para visualización\n",
    "    img_cromatic = (img_cromatic * 255).astype(np.uint8)\n",
    "\n",
    "    return img_cromatic"
   ]
  },
  {
   "cell_type": "markdown",
   "metadata": {},
   "source": [
    "### Resultados"
   ]
  },
  {
   "cell_type": "code",
   "execution_count": 6,
   "metadata": {},
   "outputs": [],
   "source": [
    "img1_cromatic = convert_to_cromatic_coords(img1)\n",
    "img2_cromatic = convert_to_cromatic_coords(img2)\n",
    "img3_cromatic = convert_to_cromatic_coords(img3)\n",
    "\n",
    "\n",
    "fig, ((ax1, ax2, ax3), (ax4, ax5, ax6)) = plt.subplots(2, 3, figsize=(15, 10))\n",
    "\n",
    "ax1.imshow(cv.cvtColor(img1, cv.COLOR_BGR2RGB))\n",
    "ax1.set_title('Imagen 1 - Original')\n",
    "\n",
    "ax2.imshow(cv.cvtColor(img2, cv.COLOR_BGR2RGB))\n",
    "ax2.set_title('Imagen 2 - Original')\n",
    "\n",
    "ax3.imshow(cv.cvtColor(img3, cv.COLOR_BGR2RGB))\n",
    "ax3.set_title('Imagen 3 - Original')\n",
    "\n",
    "ax4.imshow(cv.cvtColor(img1_cromatic, cv.COLOR_BGR2RGB))\n",
    "ax4.set_title('Imagen 1 - Coordenadas Cromáticas')\n",
    "\n",
    "ax5.imshow(cv.cvtColor(img2_cromatic, cv.COLOR_BGR2RGB))\n",
    "ax5.set_title('Imagen 2 - Coordenadas Cromáticas')\n",
    "\n",
    "ax6.imshow(cv.cvtColor(img3_cromatic, cv.COLOR_BGR2RGB))\n",
    "ax6.set_title('Imagen 3 - Coordenadas Cromáticas')\n",
    "\n",
    "plt.tight_layout()\n",
    "plt.show()"
   ]
  },
  {
   "cell_type": "markdown",
   "metadata": {},
   "source": [
    "## 1.2 White patch"
   ]
  },
  {
   "cell_type": "code",
   "execution_count": 7,
   "metadata": {},
   "outputs": [],
   "source": [
    "test_blue = cv.imread('data/white_patch/test_blue.png')\n",
    "test_green = cv.imread('data/white_patch/test_green.png')\n",
    "test_red = cv.imread('data/white_patch/test_red.png')"
   ]
  },
  {
   "cell_type": "code",
   "execution_count": 8,
   "metadata": {},
   "outputs": [],
   "source": [
    "wp_blue = cv.imread('data/white_patch/wp_blue.jpg')\n",
    "wp_green = cv.imread('data/white_patch/wp_green.png')\n",
    "wp_green2 = cv.imread('data/white_patch/wp_green2.jpg')\n",
    "wp_red = cv.imread('data/white_patch/wp_red.png')\n",
    "wp_red2 = cv.imread('data/white_patch/wp_red2.jpg')"
   ]
  },
  {
   "cell_type": "code",
   "execution_count": 9,
   "metadata": {},
   "outputs": [],
   "source": [
    "def white_patch(img: np.ndarray) -> np.ndarray:\n",
    "    '''\n",
    "    Parameters\n",
    "    ----------\n",
    "    img : np.ndarray\n",
    "        Input image in BGR format.\n",
    "\n",
    "    Returns\n",
    "    -------\n",
    "    np.ndarray\n",
    "        Image patched in BGR format.\n",
    "    '''\n",
    "    img_float = img.astype(np.float32)  # Convertir a float32 para precisión en la división\n",
    "    adjust_max = lambda channel: np.percentile(channel, 95) if channel.max() == 255 else channel.max()\n",
    "    #adjust_max = lambda channel: np.percentile(channel, 95) if channel.max() == 255 else channel.max()-50 # testing\n",
    "\n",
    "    # máximo ajustado de cada canal\n",
    "    b_max = adjust_max(img_float[:,:,0])\n",
    "    g_max = adjust_max(img_float[:,:,1])\n",
    "    r_max = adjust_max(img_float[:,:,2])\n",
    "    \n",
    "    # Verificar si alguno de los canales tiene un valor máximo de 0\n",
    "    if b_max == 0 or g_max == 0 or r_max == 0:\n",
    "        raise ValueError(\"Problemas con la cámara: uno de los canales tiene un valor máximo de 0.\")\n",
    "\n",
    "    # Normalizar cada canal por su valor máximo\n",
    "    img_patched = img_float / [b_max, g_max, r_max] * 255.0\n",
    "\n",
    "    # Convertir de nuevo a uint8 para visualización\n",
    "    img_patched = img_patched.astype(np.uint8)\n",
    "\n",
    "    return img_patched"
   ]
  },
  {
   "cell_type": "markdown",
   "metadata": {},
   "source": [
    "### Resultados"
   ]
  },
  {
   "cell_type": "code",
   "execution_count": 10,
   "metadata": {},
   "outputs": [],
   "source": [
    "# Crear figura y subplots\n",
    "fig, axs = plt.subplots(2, 3, figsize=(15, 8))\n",
    "\n",
    "# Mostrar imágenes originales en la primera fila\n",
    "axs[0, 0].imshow(cv.cvtColor(test_blue, cv.COLOR_BGR2RGB))\n",
    "axs[0, 0].set_title('Original Test Blue')\n",
    "axs[0, 1].imshow(cv.cvtColor(test_green, cv.COLOR_BGR2RGB))\n",
    "axs[0, 1].set_title('Original Test Green')\n",
    "axs[0, 2].imshow(cv.cvtColor(test_red, cv.COLOR_BGR2RGB))\n",
    "axs[0, 2].set_title('Original Test Red')\n",
    "\n",
    "# Mostrar imágenes parcheadas en la segunda fila\n",
    "axs[1, 0].imshow(cv.cvtColor(white_patch(test_blue), cv.COLOR_BGR2RGB))\n",
    "axs[1, 0].set_title('Patched Test Blue')\n",
    "axs[1, 1].imshow(cv.cvtColor(white_patch(test_green), cv.COLOR_BGR2RGB))\n",
    "axs[1, 1].set_title('Patched Test Green')\n",
    "axs[1, 2].imshow(cv.cvtColor(white_patch(test_red), cv.COLOR_BGR2RGB))\n",
    "axs[1, 2].set_title('Patched Test Red')\n",
    "\n",
    "# Ajustar espacios y mostrar la figura\n",
    "plt.tight_layout()\n",
    "plt.show()"
   ]
  },
  {
   "cell_type": "code",
   "execution_count": 11,
   "metadata": {},
   "outputs": [],
   "source": [
    "# Crear figura y subplots\n",
    "fig, axs = plt.subplots(2, 5, figsize=(15, 8))\n",
    "# Mostrar imágenes originales en la primera fila\n",
    "axs[0, 0].imshow(cv.cvtColor(wp_blue, cv.COLOR_BGR2RGB))\n",
    "axs[0, 0].set_title('Original WP Blue')\n",
    "axs[0, 1].imshow(cv.cvtColor(wp_green, cv.COLOR_BGR2RGB))\n",
    "axs[0, 1].set_title('Original WP Green')\n",
    "axs[0, 2].imshow(cv.cvtColor(wp_green2, cv.COLOR_BGR2RGB))\n",
    "axs[0, 2].set_title('Original WP Green 2')\n",
    "axs[0, 3].imshow(cv.cvtColor(wp_red, cv.COLOR_BGR2RGB))\n",
    "axs[0, 3].set_title('Original WP Red')\n",
    "axs[0, 4].imshow(cv.cvtColor(wp_red2, cv.COLOR_BGR2RGB))\n",
    "axs[0, 4].set_title('Original WP Red 2')\n",
    "# Mostrar imágenes parcheadas en la segunda fila\n",
    "axs[1, 0].imshow(cv.cvtColor(white_patch(wp_blue), cv.COLOR_BGR2RGB))\n",
    "axs[1, 0].set_title('Patched WP Blue')\n",
    "axs[1, 1].imshow(cv.cvtColor(white_patch(wp_green), cv.COLOR_BGR2RGB))\n",
    "axs[1, 1].set_title('Patched WP Green')\n",
    "axs[1, 2].imshow(cv.cvtColor(white_patch(wp_green2), cv.COLOR_BGR2RGB))\n",
    "axs[1, 2].set_title('Patched WP Green 2')\n",
    "axs[1, 3].imshow(cv.cvtColor(white_patch(wp_red), cv.COLOR_BGR2RGB))\n",
    "axs[1, 3].set_title('Patched WP Red')\n",
    "axs[1, 4].imshow(cv.cvtColor(white_patch(wp_red2), cv.COLOR_BGR2RGB))\n",
    "axs[1, 4].set_title('Patched WP Red 2')\n",
    "# Ajustar espacios y mostrar la figura\n",
    "plt.tight_layout()\n",
    "plt.show()"
   ]
  },
  {
   "cell_type": "markdown",
   "metadata": {},
   "source": [
    "# 1.3 Falla Whitepatch"
   ]
  },
  {
   "cell_type": "markdown",
   "metadata": {},
   "source": [
    "Se observa una \"falla\" cuando se trabaja con la imagen wp_blue. Esto tiene una explicación y una posible mitigación.\n",
    "\n",
    "- Explicación: Viendo la distribución de intensidades en los canales de la imagen wp_blue, vemos en la imagen que genera la celda posterior que el percentil seleccionado para los canales R y G responden a valores muy bajos. Por ende el escalamiento afecta en gran medida a los valores \"bajos\" que poseían de antemano estos canales.\n",
    "\n",
    "- Mitigación: Tomar un percentil superior para evitar una disminución de escala abrupta por la baja densidad de intensidades altas que presentan las distribuciones de algunos canales. Por ejemplo: Usar el percentil 99.\n",
    "Esto mitiga el problema en la imagen wp_blue pero baja el rendimiento general del algoritmo, que se puede observar en la modificación de rendimiento que recibe el resto de las imágenes. "
   ]
  },
  {
   "cell_type": "code",
   "execution_count": 12,
   "metadata": {},
   "outputs": [],
   "source": [
    "# Leer la imagen\n",
    "wp_blue = cv.imread('data/white_patch/wp_blue.jpg')\n",
    "\n",
    "# Convertir de BGR a RGB para mostrar con Matplotlib\n",
    "wp_blue_rgb = cv.cvtColor(wp_blue, cv.COLOR_BGR2RGB)\n",
    "\n",
    "# Calcular histogramas para cada canal de color\n",
    "hist_b = cv.calcHist([wp_blue], [0], None, [256], [0, 256])\n",
    "hist_g = cv.calcHist([wp_blue], [1], None, [256], [0, 256])\n",
    "hist_r = cv.calcHist([wp_blue], [2], None, [256], [0, 256])\n",
    "\n",
    "# Calcular percentil 95 para cada canal\n",
    "percentile_b = np.percentile(wp_blue[:,:,0], 95)\n",
    "percentile_g = np.percentile(wp_blue[:,:,1], 95)\n",
    "percentile_r = np.percentile(wp_blue[:,:,2], 95)\n",
    "\n",
    "# Crear la figura y los subplots\n",
    "fig, axs = plt.subplots(1, 4, figsize=(15, 4))\n",
    "\n",
    "# Mostrar la imagen\n",
    "axs[0].imshow(wp_blue_rgb)\n",
    "axs[0].set_title('Imagen')\n",
    "\n",
    "# Mostrar histograma para el canal Azul (B)\n",
    "axs[1].plot(hist_b, color='b')\n",
    "axs[1].axvline(x=percentile_b, color='r', linestyle='--', label=f'Percentil 95 ({int(percentile_b)})')\n",
    "axs[1].set_title('Histograma Azul')\n",
    "axs[1].set_xlim([0, 256])\n",
    "axs[1].legend()\n",
    "\n",
    "# Mostrar histograma para el canal Verde (G)\n",
    "axs[2].plot(hist_g, color='g')\n",
    "axs[2].axvline(x=percentile_g, color='r', linestyle='--', label=f'Percentil 95 ({int(percentile_g)})')\n",
    "axs[2].set_title('Histograma Verde')\n",
    "axs[2].set_xlim([0, 256])\n",
    "axs[2].legend()\n",
    "\n",
    "# Mostrar histograma para el canal Rojo (R)\n",
    "axs[3].plot(hist_r, color='r')\n",
    "axs[3].axvline(x=percentile_r, color='r', linestyle='--', label=f'Percentil 95 ({int(percentile_r)})')\n",
    "axs[3].set_title('Histograma Rojo')\n",
    "axs[3].set_xlim([0, 256])\n",
    "axs[3].legend()\n",
    "\n",
    "# Ajustar espacios y mostrar la figura\n",
    "plt.tight_layout()\n",
    "plt.show()\n"
   ]
  },
  {
   "cell_type": "markdown",
   "metadata": {},
   "source": [
    "- Corrección para imagen wp_blue con los g_max y r_max hardcodeados a 240."
   ]
  },
  {
   "cell_type": "code",
   "execution_count": 13,
   "metadata": {},
   "outputs": [],
   "source": [
    "def white_patch_wp_blue(img: np.ndarray) -> np.ndarray:\n",
    "    '''\n",
    "    Parameters\n",
    "    ----------\n",
    "    img : np.ndarray\n",
    "        Input image in BGR format.\n",
    "\n",
    "    Returns\n",
    "    -------\n",
    "    np.ndarray\n",
    "        Image patched in BGR format.\n",
    "    '''\n",
    "    img_float = img.astype(np.float32)  # Convertir a float32 para precisión en la división\n",
    "    adjust_max = lambda channel: np.percentile(channel, 95) if channel.max() == 255 else channel.max()\n",
    "    #adjust_max = lambda channel: np.percentile(channel, 95) if channel.max() == 255 else channel.max()-50 # testing\n",
    "\n",
    "    # máximo ajustado de cada canal\n",
    "    b_max = adjust_max(img_float[:,:,0])\n",
    "    g_max = 240\n",
    "    r_max = 240\n",
    "    \n",
    "    # Verificar si alguno de los canales tiene un valor máximo de 0\n",
    "    if b_max == 0 or g_max == 0 or r_max == 0:\n",
    "        raise ValueError(\"Problemas con la cámara: uno de los canales tiene un valor máximo de 0.\")\n",
    "\n",
    "    # Normalizar cada canal por su valor máximo\n",
    "    img_patched = img_float / [b_max, g_max, r_max] * 255.0\n",
    "\n",
    "    # Convertir de nuevo a uint8 para visualización\n",
    "    img_patched = img_patched.astype(np.uint8)\n",
    "\n",
    "    return img_patched"
   ]
  },
  {
   "cell_type": "markdown",
   "metadata": {},
   "source": [
    "- Resultados"
   ]
  },
  {
   "cell_type": "code",
   "execution_count": 14,
   "metadata": {},
   "outputs": [],
   "source": [
    "# Crear figura y subplots\n",
    "fig, axs = plt.subplots(1,2, figsize=(10, 5))\n",
    "# Mostrar imágenes originales en la primera fila\n",
    "axs[0].imshow(cv.cvtColor(wp_blue, cv.COLOR_BGR2RGB))\n",
    "axs[0].set_title('Original WP Blue')\n",
    "# Mostrar imágenes parcheadas en la segunda fila\n",
    "axs[1].imshow(cv.cvtColor(white_patch_wp_blue(wp_blue), cv.COLOR_BGR2RGB))\n",
    "axs[1].set_title('Patched WP Blue')\n",
    "# Ajustar espacios y mostrar la figura\n",
    "plt.tight_layout()\n",
    "plt.show()"
   ]
  },
  {
   "cell_type": "markdown",
   "metadata": {},
   "source": [
    "No se termina de corregir el comportamiento sobre la imagen wp_blue pero se ve una mejoría."
   ]
  },
  {
   "cell_type": "markdown",
   "metadata": {},
   "source": [
    "---"
   ]
  },
  {
   "cell_type": "markdown",
   "metadata": {},
   "source": [
    "# Parte 2"
   ]
  },
  {
   "cell_type": "markdown",
   "metadata": {},
   "source": [
    "## 2.1 Escala de grises"
   ]
  },
  {
   "cell_type": "code",
   "execution_count": 15,
   "metadata": {},
   "outputs": [],
   "source": [
    "img1_tp = cv.imread('data/img1_tp.png', cv.IMREAD_GRAYSCALE)\n",
    "img2_tp = cv.imread('data/img2_tp.png', cv.IMREAD_GRAYSCALE)"
   ]
  },
  {
   "cell_type": "code",
   "execution_count": 16,
   "metadata": {},
   "outputs": [],
   "source": [
    "# Crear figura y subplots\n",
    "fig, axs = plt.subplots(2, 2, figsize=(10, 5))\n",
    "# Mostrar imágenes originales en la primera fila\n",
    "axs[0,0].imshow(cv.cvtColor(img1_tp, cv.COLOR_BGR2RGB))\n",
    "axs[0,0].set_title('Original img1_tp')\n",
    "axs[0,1].imshow(cv.cvtColor(img2_tp, cv.COLOR_BGR2RGB))\n",
    "axs[0,1].set_title('Original img2_tp')\n",
    "# Mostrar imágenes parcheadas en la segunda fila\n",
    "axs[1,0].imshow(cv.cvtColor(img1_tp, cv.COLOR_BGR2RGB), cmap='gray')\n",
    "axs[1,0].set_title('Grey cmap img1_tp')\n",
    "axs[1,1].imshow(cv.cvtColor(img2_tp, cv.COLOR_BGR2RGB), cmap='gray')\n",
    "axs[1,1].set_title('Grey cmap img2_tp')\n",
    "# Ajustar espacios y mostrar la figura\n",
    "plt.tight_layout()\n",
    "plt.show()"
   ]
  },
  {
   "cell_type": "markdown",
   "metadata": {},
   "source": [
    "## 2.2 Histogramas"
   ]
  },
  {
   "cell_type": "code",
   "execution_count": 17,
   "metadata": {},
   "outputs": [],
   "source": [
    "# Elegir el número de bins (por ejemplo, 256 para cada nivel de gris)\n",
    "num_bins = 25\n",
    "\n",
    "# Calcular el histograma\n",
    "hist_img1, bins_img1 = np.histogram(img1_tp, bins=num_bins, range=(0, 256))\n",
    "hist_img2, bins_img2 = np.histogram(img2_tp, bins=num_bins, range=(0, 256))\n",
    "\n",
    "# Graficar el histograma\n",
    "plt.figure(figsize=(10, 5))\n",
    "\n",
    "plt.subplot(1, 2, 1)\n",
    "plt.bar(bins_img1[:-1], hist_img1, width=1, color='black')\n",
    "plt.title('Histograma de img1_tp')\n",
    "plt.xlabel('Intensidad de píxel')\n",
    "plt.ylabel('Frecuencia')\n",
    "\n",
    "plt.subplot(1, 2, 2)\n",
    "plt.bar(bins_img2[:-1], hist_img2, width=1, color='black')\n",
    "plt.title('Histograma de img2_tp')\n",
    "plt.xlabel('Intensidad de píxel')\n",
    "plt.ylabel('Frecuencia')\n",
    "\n",
    "plt.tight_layout()\n",
    "plt.show()\n"
   ]
  },
  {
   "cell_type": "markdown",
   "metadata": {},
   "source": [
    "- Se observa un histograma idéntico por más que las imágenes son claramente distintas.\n",
    "- Para un problema de clasificación no veo útil usar los histogramas como features por los casos como el que estamos evaluando. Estaría alimentando al modelo con información errónea ya que se interpretaría una similaridad donde no la hay."
   ]
  },
  {
   "cell_type": "markdown",
   "metadata": {},
   "source": [
    "## 2.3 Segmentación"
   ]
  },
  {
   "cell_type": "code",
   "execution_count": 18,
   "metadata": {},
   "outputs": [],
   "source": [
    "segmentacion = cv.cvtColor(cv.imread('data/segmentacion.png'), cv.COLOR_BGR2RGB)"
   ]
  },
  {
   "cell_type": "code",
   "execution_count": 19,
   "metadata": {},
   "outputs": [],
   "source": [
    "plt.imshow(segmentacion)\n",
    "plt.show()"
   ]
  },
  {
   "cell_type": "code",
   "execution_count": 20,
   "metadata": {},
   "outputs": [],
   "source": [
    "num_bins = 30\n",
    "# Calcular el histograma\n",
    "hist_segmentacion, bins_segmentacion = np.histogram(segmentacion[:,:,2], bins=num_bins, range=(0, 256))\n",
    "plt.bar(bins_segmentacion[:-1], hist_segmentacion, width=1, color='blue')\n",
    "plt.title('Histograma de img1_tp')\n",
    "plt.xlabel('Intensidad de píxel')\n",
    "plt.ylabel('Frecuencia')\n",
    "plt.show()"
   ]
  },
  {
   "cell_type": "markdown",
   "metadata": {},
   "source": [
    "- Histograma de cada Canal"
   ]
  },
  {
   "cell_type": "code",
   "execution_count": 21,
   "metadata": {},
   "outputs": [],
   "source": [
    "# Elegir el número de bins\n",
    "num_bins = 55\n",
    "\n",
    "# Calcular el histograma para cada canal\n",
    "hist_r, bins_r = np.histogram(segmentacion[:,:,2], bins=num_bins, range=(0, 256))\n",
    "hist_g, bins_g = np.histogram(segmentacion[:,:,1], bins=num_bins, range=(0, 256))\n",
    "hist_b, bins_b = np.histogram(segmentacion[:,:,0], bins=num_bins, range=(0, 256))\n",
    "\n",
    "# Calcular el ancho de los bins\n",
    "bin_width = bins_r[1] - bins_r[0]\n",
    "\n",
    "# Graficar los histogramas en subplots\n",
    "plt.figure(figsize=(15, 5))\n",
    "\n",
    "plt.subplot(1, 3, 1)\n",
    "plt.bar(bins_r[:-1], hist_r, width=bin_width, color='red')\n",
    "plt.title('Histograma del canal R')\n",
    "plt.xlabel('Intensidad de píxel')\n",
    "plt.ylabel('Frecuencia')\n",
    "\n",
    "plt.subplot(1, 3, 2)\n",
    "plt.bar(bins_g[:-1], hist_g, width=bin_width, color='green')\n",
    "plt.title('Histograma del canal G')\n",
    "plt.xlabel('Intensidad de píxel')\n",
    "plt.ylabel('Frecuencia')\n",
    "\n",
    "plt.subplot(1, 3, 3)\n",
    "plt.bar(bins_b[:-1], hist_b, width=bin_width, color='blue')\n",
    "plt.title('Histograma del canal B')\n",
    "plt.xlabel('Intensidad de píxel')\n",
    "plt.ylabel('Frecuencia')\n",
    "\n",
    "plt.tight_layout()\n",
    "plt.show()"
   ]
  },
  {
   "cell_type": "markdown",
   "metadata": {},
   "source": [
    "- Superposicion de histogramas por par de canales"
   ]
  },
  {
   "cell_type": "code",
   "execution_count": 37,
   "metadata": {},
   "outputs": [],
   "source": [
    "# Elegir el número de bins\n",
    "num_bins = 55\n",
    "# Calcular el ancho de los bins\n",
    "bin_width = bins_r[1] - bins_r[0]\n",
    "# Crear el subplot de 2x2\n",
    "fig, axes = plt.subplots(2, 2, figsize=(12, 12))\n",
    "\n",
    "# Histograma de los tres canales superpuestos\n",
    "axes[0, 0].bar(bins_r[:-1], hist_r, width=bin_width, color='red', alpha=0.5, label='Red')\n",
    "axes[0, 0].bar(bins_g[:-1], hist_g, width=bin_width, color='green', alpha=0.5, label='Green')\n",
    "axes[0, 0].bar(bins_b[:-1], hist_b, width=bin_width, color='blue', alpha=0.5, label='Blue')\n",
    "axes[0, 0].set_title('Histogramas de los canales R, G, B superpuestos')\n",
    "axes[0, 0].set_xlabel('Intensidad de píxel')\n",
    "axes[0, 0].set_ylabel('Frecuencia')\n",
    "axes[0, 0].legend()\n",
    "\n",
    "# Histograma de los canales R y G superpuestos\n",
    "axes[0, 1].bar(bins_r[:-1], hist_r, width=bin_width, color='red', alpha=0.5, label='Red')\n",
    "axes[0, 1].bar(bins_g[:-1], hist_g, width=bin_width, color='green', alpha=0.5, label='Green')\n",
    "axes[0, 1].set_title('Histogramas de los canales R y G superpuestos')\n",
    "axes[0, 1].set_xlabel('Intensidad de píxel')\n",
    "axes[0, 1].set_ylabel('Frecuencia')\n",
    "axes[0, 1].legend()\n",
    "\n",
    "# Histograma de los canales R y B superpuestos\n",
    "axes[1, 0].bar(bins_r[:-1], hist_r, width=bin_width, color='red', alpha=0.5, label='Red')\n",
    "axes[1, 0].bar(bins_b[:-1], hist_b, width=bin_width, color='blue', alpha=0.5, label='Blue')\n",
    "axes[1, 0].set_title('Histogramas de los canales R y B superpuestos')\n",
    "axes[1, 0].set_xlabel('Intensidad de píxel')\n",
    "axes[1, 0].set_ylabel('Frecuencia')\n",
    "axes[1, 0].legend()\n",
    "\n",
    "# Histograma de los canales G y B superpuestos\n",
    "axes[1, 1].bar(bins_g[:-1], hist_g, width=bin_width, color='green', alpha=0.5, label='Green')\n",
    "axes[1, 1].bar(bins_b[:-1], hist_b, width=bin_width, color='blue', alpha=0.5, label='Blue')\n",
    "axes[1, 1].set_title('Histogramas de los canales G y B superpuestos')\n",
    "axes[1, 1].set_xlabel('Intensidad de píxel')\n",
    "axes[1, 1].set_ylabel('Frecuencia')\n",
    "axes[1, 1].legend()\n",
    "\n",
    "plt.tight_layout()\n",
    "plt.show()"
   ]
  },
  {
   "cell_type": "markdown",
   "metadata": {},
   "source": [
    "- Segmentacion del cielo: Usando el horizonte."
   ]
  },
  {
   "cell_type": "code",
   "execution_count": 23,
   "metadata": {},
   "outputs": [
    {
     "data": {
      "text/plain": [
       "(628, 953, 3)"
      ]
     },
     "execution_count": 23,
     "metadata": {},
     "output_type": "execute_result"
    }
   ],
   "source": [
    "segmentacion.shape"
   ]
  },
  {
   "cell_type": "code",
   "execution_count": 29,
   "metadata": {},
   "outputs": [],
   "source": [
    "mask = np.zeros(segmentacion.shape, dtype=np.uint8)\n",
    "mask[0:288, 0:953] = 255  # y = 288 --> horizonte\n",
    "\n",
    "# Aplicar operaciones lógicas\n",
    "img_and = cv.bitwise_and(segmentacion, mask)\n",
    "img_or = cv.bitwise_or(segmentacion, mask)\n",
    "\n",
    "# Mostrar resultados en un subplot de 2x2\n",
    "fig, axes = plt.subplots(2, 2, figsize=(12, 12))\n",
    "\n",
    "# Imagen original\n",
    "axes[0, 0].imshow(segmentacion, cmap='gray')\n",
    "axes[0, 0].set_title('Imagen Original')\n",
    "axes[0, 0].axis('off')\n",
    "\n",
    "# Máscara\n",
    "axes[0, 1].imshow(mask, cmap='gray')\n",
    "axes[0, 1].set_title('Máscara')\n",
    "axes[0, 1].axis('off')\n",
    "\n",
    "# Resultado de bitwise_and\n",
    "axes[1, 0].imshow(img_and, cmap='gray')\n",
    "axes[1, 0].set_title('Resultado de bitwise_and')\n",
    "axes[1, 0].axis('off')\n",
    "\n",
    "# Resultado de bitwise_or\n",
    "axes[1, 1].imshow(img_or, cmap='gray')\n",
    "axes[1, 1].set_title('Resultado de bitwise_or')\n",
    "axes[1, 1].axis('off')\n",
    "\n",
    "plt.tight_layout()\n",
    "plt.show()"
   ]
  },
  {
   "cell_type": "markdown",
   "metadata": {},
   "source": [
    "Se observa un pequeño pico de montaña usando el horizonte."
   ]
  },
  {
   "cell_type": "markdown",
   "metadata": {},
   "source": [
    "- Segmentacion del cielo: Usando el horizonte y la intensidad del canal azul."
   ]
  },
  {
   "cell_type": "code",
   "execution_count": 39,
   "metadata": {},
   "outputs": [],
   "source": [
    "segmentacion = cv.cvtColor(cv.imread('data/segmentacion.png'), cv.COLOR_BGR2RGB)\n",
    "\n",
    "# Mask of blue\n",
    "mask_blue = cv.inRange(segmentacion, (0, 0, 170), (255, 255, 255)) #Umbral de intensidad azul: 170\n",
    "\n",
    "# Mask of horizon line\n",
    "mask_horizon = np.zeros(segmentacion.shape[:2], dtype=np.uint8)\n",
    "mask_horizon[0:288, 0:953] = 255  # y = 288 --> horizonte\n",
    "\n",
    "# Combine masks \n",
    "mask = cv.bitwise_and(mask_blue, mask_horizon) # deberia usar OR pero funciona con AND.\n",
    "\n",
    "# Apply bitwise_and operation with combined mask\n",
    "target = cv.bitwise_and(segmentacion, segmentacion, mask=mask)\n",
    "\n",
    "fig, axes = plt.subplots(1, 3, figsize=(15, 5))\n",
    "# Original image\n",
    "axes[0].imshow(segmentacion)\n",
    "axes[0].set_title('Imagen Original')\n",
    "axes[0].axis('off')\n",
    "# Mask\n",
    "axes[1].imshow(mask, cmap='gray')\n",
    "axes[1].set_title('Máscara combinada')\n",
    "axes[1].axis('off')\n",
    "# Image with mask applied\n",
    "axes[2].imshow(target)\n",
    "axes[2].set_title('Imagen con Máscara')\n",
    "axes[2].axis('off')\n",
    "\n",
    "plt.tight_layout()\n",
    "plt.show()\n"
   ]
  },
  {
   "cell_type": "markdown",
   "metadata": {},
   "source": [
    "Queda eliminado el pico de la montaña al combinar una mascara para el horizonte con una mascara en funcion de tipo treshold para la intensidad del canal azul."
   ]
  }
 ],
 "metadata": {
  "kernelspec": {
   "display_name": "cv1",
   "language": "python",
   "name": "python3"
  },
  "language_info": {
   "codemirror_mode": {
    "name": "ipython",
    "version": 3
   },
   "file_extension": ".py",
   "mimetype": "text/x-python",
   "name": "python",
   "nbconvert_exporter": "python",
   "pygments_lexer": "ipython3",
   "version": "3.12.4"
  }
 },
 "nbformat": 4,
 "nbformat_minor": 2
}
